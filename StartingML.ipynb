{
 "cells": [
  {
   "cell_type": "markdown",
   "id": "dfa9f9dd-60c5-4d90-9388-74b434bdabe4",
   "metadata": {},
   "source": [
    "# First steps in Supervised learning\n"
   ]
  },
  {
   "cell_type": "code",
   "execution_count": null,
   "id": "46f81be6-4bdf-404c-a2a2-6ac9e9289a41",
   "metadata": {},
   "outputs": [],
   "source": [
    "import pandas as pd\n",
    "from sklearn.model_selection import train_test_split"
   ]
  },
  {
   "cell_type": "markdown",
   "id": "a2432cac-3fc7-44a3-9b9f-da4fadccd79e",
   "metadata": {},
   "source": [
    "We use pandas to organize and clean the data set. \\\n",
    "Sklearn is useful to put in place model and have a quantitative evaluetion of the quality of the model we are trying to put in place."
   ]
  },
  {
   "cell_type": "code",
   "execution_count": null,
   "id": "e4e586fe-6cb3-4b46-8731-f6168c79501e",
   "metadata": {},
   "outputs": [],
   "source": [
    "# Read the data\n",
    "X_full = pd.read_csv('../input/train.csv', index_col='Id')\n",
    "X_test_full = pd.read_csv('../input/test.csv', index_col='Id')"
   ]
  },
  {
   "cell_type": "markdown",
   "id": "f3e1e430-f2fd-4263-82a6-2ec5f69eebdd",
   "metadata": {},
   "source": [
    "At this point we have to get the data we will be working on. \\\n",
    "It's important to have in mind the distinction between the data we will use for training and for testing."
   ]
  },
  {
   "cell_type": "code",
   "execution_count": null,
   "id": "ef863829-ff72-4ff8-830e-834f356fb606",
   "metadata": {},
   "outputs": [],
   "source": [
    "# Remove rows with missing target, separate target from predictors\n",
    "X_full.dropna(axis=0, subset=['SalePrice'], inplace=True)\n",
    "y = X_full.SalePrice\n",
    "X_full.drop(['SalePrice'], axis=1, inplace=True)"
   ]
  },
  {
   "cell_type": "markdown",
   "id": "f6e19537-40b6-44bc-87f3-6dc58fabe98a",
   "metadata": {},
   "source": [
    "In this demo we are testing a supervised learning for this reason is important to have the value we are trying to predict, we drop the null elements we find in the 'Price' row and we set the target of the predictors."
   ]
  },
  {
   "cell_type": "code",
   "execution_count": null,
   "id": "55d42b72-5cab-44a5-ab24-fa504e4c319f",
   "metadata": {},
   "outputs": [],
   "source": [
    "# Break off validation set from training data\n",
    "X_train, X_valid, y_train, y_valid = train_test_split(X, y, train_size=0.8, test_size=0.2, random_state=0)"
   ]
  },
  {
   "cell_type": "markdown",
   "id": "6857c0b7-a63c-4070-a2bc-dc9a49e428ae",
   "metadata": {},
   "source": [
    "We split between the training and the validation."
   ]
  },
  {
   "cell_type": "code",
   "execution_count": null,
   "id": "f4944130-c8cf-4294-ae80-fd3e0ab6475c",
   "metadata": {},
   "outputs": [],
   "source": [
    "X_train.head()\n",
    "X_train.describe()\n",
    "X_trin.shape"
   ]
  },
  {
   "cell_type": "markdown",
   "id": "e90d14d4-2a8d-4733-b0f3-3206d4dccac4",
   "metadata": {},
   "source": [
    "Are useful functions to understand if we did any mistakes during the set up."
   ]
  },
  {
   "cell_type": "code",
   "execution_count": null,
   "id": "0962c77b-79ba-40a7-9eb5-04d86d98021e",
   "metadata": {},
   "outputs": [],
   "source": [
    "from sklearn.ensemble import RandomForestRegressor\n",
    "from sklearn.metrics import mean_absolute_error\n",
    "\n",
    "# Function for comparing different approaches\n",
    "def score_dataset(X_train, X_valid, y_train, y_valid):\n",
    "    model = RandomForestRegressor(n_estimators=100, random_state=0)\n",
    "    model.fit(X_train, y_train)\n",
    "    preds = model.predict(X_valid)\n",
    "    return mean_absolute_error(y_valid, preds)"
   ]
  },
  {
   "cell_type": "markdown",
   "id": "67beb780-f7b4-45e7-bb09-f15dd7fe198b",
   "metadata": {},
   "source": [
    "An exemple of function that is useful to compare different aproaches and understand what is the best model to work with and how to handle missing data."
   ]
  },
  {
   "cell_type": "code",
   "execution_count": null,
   "id": "3eff02e8-a950-4b59-8d25-8c305fbcb989",
   "metadata": {},
   "outputs": [],
   "source": []
  }
 ],
 "metadata": {
  "kernelspec": {
   "display_name": "Python 3 (ipykernel)",
   "language": "python",
   "name": "python3"
  },
  "language_info": {
   "codemirror_mode": {
    "name": "ipython",
    "version": 3
   },
   "file_extension": ".py",
   "mimetype": "text/x-python",
   "name": "python",
   "nbconvert_exporter": "python",
   "pygments_lexer": "ipython3",
   "version": "3.8.1"
  }
 },
 "nbformat": 4,
 "nbformat_minor": 5
}
